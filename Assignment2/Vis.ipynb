{
  "cells": [
    {
      "cell_type": "code",
      "execution_count": 50,
      "metadata": {
        "colab": {
          "base_uri": "https://localhost:8080/"
        },
        "id": "t4E_hNK8w4ms",
        "outputId": "87e72486-0f74-4015-d807-6812e4d2189d"
      },
      "outputs": [
        {
          "output_type": "stream",
          "name": "stdout",
          "text": [
            "fatal: destination path 'ELL793_Assignments' already exists and is not an empty directory.\n"
          ]
        }
      ],
      "source": [
        "!git clone https://github.com/amokhvarma/ELL793_Assignments.git"
      ]
    },
    {
      "cell_type": "code",
      "execution_count": 34,
      "metadata": {
        "colab": {
          "base_uri": "https://localhost:8080/"
        },
        "id": "SI5VXpPUxC5m",
        "outputId": "fcc57489-4563-4f52-a2f9-55341ff2c1ad"
      },
      "outputs": [
        {
          "output_type": "stream",
          "name": "stdout",
          "text": [
            "/content/ELL793_Assignments/Assignment2/ELL793_Assignments/Assignment2\n"
          ]
        }
      ],
      "source": [
        "%cd ELL793_Assignments/Assignment2"
      ]
    },
    {
      "cell_type": "code",
      "execution_count": 35,
      "metadata": {
        "colab": {
          "base_uri": "https://localhost:8080/"
        },
        "id": "OAmGO9B9ybXw",
        "outputId": "5d1eea57-5264-4f98-c67b-9297d51712e8"
      },
      "outputs": [
        {
          "output_type": "stream",
          "name": "stdout",
          "text": [
            "usage: main.py [-h] [--expt EXPT] [--layers LAYERS] [--activation ACTIVATION]\n",
            "               [--epochs EPOCHS] [--early EARLY] [--batch BATCH] [--hid HID]\n",
            "               [--reg [REG]] [--dropout [DROPOUT]]\n",
            "               [--dropout_rate DROPOUT_RATE] [--lr LR] [--scratch [SCRATCH]]\n",
            "               [--explanation EXPLANATION] [--seed SEED]\n",
            "               [--normalise NORMALISE] [--save [SAVE]]\n",
            "\n",
            "optional arguments:\n",
            "  -h, --help            show this help message and exit\n",
            "  --expt EXPT           Expt Number\n",
            "  --layers LAYERS       Hidden Layers\n",
            "  --activation ACTIVATION\n",
            "                        Activation Function\n",
            "  --epochs EPOCHS       Number of Epochs\n",
            "  --early EARLY         Early Stopping Patience (0) for no ES\n",
            "  --batch BATCH         Batch Size\n",
            "  --hid HID             Hidden Dimensions\n",
            "  --reg [REG]           Regularisation\n",
            "  --dropout [DROPOUT]   Dropout\n",
            "  --dropout_rate DROPOUT_RATE\n",
            "                        Dropout Rate\n",
            "  --lr LR               Learning Rate\n",
            "  --scratch [SCRATCH]   Train from Scratch?\n",
            "  --explanation EXPLANATION\n",
            "                        Explanation (If necessary)\n",
            "  --seed SEED           Random Seed\n",
            "  --normalise NORMALISE\n",
            "                        Normalisation Type (standard/const)\n",
            "  --save [SAVE]         Save Model ?\n"
          ]
        }
      ],
      "source": [
        "!python main.py --help"
      ]
    },
    {
      "cell_type": "code",
      "execution_count": 36,
      "metadata": {
        "colab": {
          "base_uri": "https://localhost:8080/"
        },
        "id": "I70GOoClQmsN",
        "outputId": "778db23c-f798-4f38-8e44-48c14d713b0c"
      },
      "outputs": [
        {
          "output_type": "stream",
          "name": "stdout",
          "text": [
            "Downloading https://www.cs.toronto.edu/~kriz/cifar-10-python.tar.gz to cifar/cifar-10-python.tar.gz\n",
            "170499072it [00:11, 14850687.88it/s]                   \n",
            "Extracting cifar/cifar-10-python.tar.gz to cifar/\n",
            "Train : 42000, Validation : 8000, Test : 10000 \n",
            "<class 'torch.Tensor'> <class 'torch.Tensor'> torch.Size([128, 3, 32, 32]) torch.Size([128])\n",
            "Number of parameters :  66\n",
            "Epoch : 0 ,Train Acc : 0.5757619047619048, Train Loss : 1.2086718807447525, Val Acc : 0.646125, Val Loss : 0.00010342519090045244\n",
            "Epoch : 1 ,Train Acc : 0.7439285714285714, Train Loss : 0.7367175451006208, Val Acc : 0.708375, Val Loss : 0.00013080592907499522\n",
            "Epoch : 2 ,Train Acc : 0.8039285714285714, Train Loss : 0.5599711232071831, Val Acc : 0.736375, Val Loss : 0.00010750824731076136\n",
            "Epoch : 3 ,Train Acc : 0.8498095238095238, Train Loss : 0.4303625001453218, Val Acc : 0.702375, Val Loss : 0.00017854171164799482\n",
            "Epoch : 4 ,Train Acc : 0.8811904761904762, Train Loss : 0.33511675298781624, Val Acc : 0.740125, Val Loss : 0.00012126114597776905\n",
            "Epoch : 5 ,Train Acc : 0.9142857142857143, Train Loss : 0.2448297005380903, Val Acc : 0.695875, Val Loss : 0.0001161320396931842\n",
            "Epoch : 6 ,Train Acc : 0.9364047619047619, Train Loss : 0.18366709946450732, Val Acc : 0.743125, Val Loss : 0.00015317945508286357\n",
            "Epoch : 7 ,Train Acc : 0.9636666666666667, Train Loss : 0.11366602710315159, Val Acc : 0.758125, Val Loss : 9.984977805288509e-05\n",
            "Epoch : 8 ,Train Acc : 0.9736666666666667, Train Loss : 0.08764283625852494, Val Acc : 0.762, Val Loss : 0.00013375903654377908\n",
            "Epoch : 9 ,Train Acc : 0.9773333333333334, Train Loss : 0.07579858043080284, Val Acc : 0.76675, Val Loss : 9.490198135608807e-05\n",
            "Epoch : 10 ,Train Acc : 0.9800952380952381, Train Loss : 0.06902608946959178, Val Acc : 0.75975, Val Loss : 0.00013393237895797938\n",
            "Epoch : 11 ,Train Acc : 0.9838571428571429, Train Loss : 0.059025389001483006, Val Acc : 0.75725, Val Loss : 0.0001969522563740611\n",
            "Epoch : 12 ,Train Acc : 0.984, Train Loss : 0.057113974911825995, Val Acc : 0.76625, Val Loss : 0.00013508347910828888\n",
            "Epoch : 13 ,Train Acc : 0.986904761904762, Train Loss : 0.051111575015953606, Val Acc : 0.761875, Val Loss : 0.00010837263835128397\n",
            "Epoch : 14 ,Train Acc : 0.9861428571428571, Train Loss : 0.05101074972606841, Val Acc : 0.76575, Val Loss : 8.269844693131745e-05\n",
            "Epoch : 15 ,Train Acc : 0.986547619047619, Train Loss : 0.05125018977551233, Val Acc : 0.761375, Val Loss : 0.00011736462329281494\n",
            "Epoch : 16 ,Train Acc : 0.9870238095238095, Train Loss : 0.049706797105925425, Val Acc : 0.7645, Val Loss : 0.00012757309013977647\n"
          ]
        }
      ],
      "source": [
        "!python main.py --expt 2 --layers 2 --hid 128 --early 10 --epochs 75 --lr 0.01 --scratch True --batch 128 --save True"
      ]
    },
    {
      "cell_type": "code",
      "execution_count": 41,
      "metadata": {
        "colab": {
          "base_uri": "https://localhost:8080/"
        },
        "id": "_xGGtA-T6EwK",
        "outputId": "907a43b6-1f17-41ce-e891-cab259a97b8d"
      },
      "outputs": [
        {
          "output_type": "stream",
          "name": "stdout",
          "text": [
            "Expt2_l2_ep75_early10_regFalse_drFalse_rate_0.0_actrelu_hid128_lr0.01_scTrue_bch128__normstandard_seed10\n"
          ]
        }
      ],
      "source": [
        "from utils import *\n",
        "class temp:\n",
        "        def __init__(self):\n",
        "            self.normalise = 'standard'\n",
        "            self.seed = 10\n",
        "            self.layers = 2\n",
        "            self.expt = 2\n",
        "            self.batch = 128\n",
        "            self.epochs= 75\n",
        "            self.early = 10\n",
        "            self.dropout = False\n",
        "            self.reg = False\n",
        "            self.dropout_rate = 0.0\n",
        "            self.activation = 'relu'\n",
        "            self.lr = 0.01\n",
        "            self.hid = 128\n",
        "            self.scratch = True\n",
        "            self.name = None \n",
        "            self.device = None\n",
        "    \n",
        "args = temp() \n",
        "args.name = 'Expt{}_l{}_ep{}_early{}_reg{}_dr{}_rate_{}_act{}_hid{}_lr{}_sc{}_bch{}__norm{}_seed{}'.format(args.expt,args.layers,args.epochs,args.early,args.reg,args.dropout,args.dropout_rate,args.activation,args.hid,args.lr,args.scratch,args.batch,args.normalise,args.seed)\n",
        "name = args.name\n",
        "print(name)\n",
        "args.device = 'cuda' if torch.cuda.is_available() else 'cpu'"
      ]
    },
    {
      "cell_type": "code",
      "execution_count": 51,
      "metadata": {
        "id": "0UI6Dmgj3nga"
      },
      "outputs": [],
      "source": [
        "import torch\n",
        "import numpy as np\n",
        "import matplotlib.pyplot as plt\n",
        "\n",
        "\n",
        "import numpy as np\n",
        "import matplotlib.pyplot as plt\n",
        "\n",
        "def multi_plot(X,w=10,h=10,columns=3,rows=2):\n",
        "\n",
        "    #w = 10\n",
        "    #h = 10\n",
        "    fig = plt.figure(figsize=(9, 9))\n",
        "    #columns = 3\n",
        "    #rows = 2\n",
        "\n",
        "    # prep (x,y) for extra plotting\n",
        "    #xs = np.linspace(0, 2*np.pi, 60)  # from 0 to 2pi\n",
        "    #ys = np.abs(np.sin(xs))           # absolute of sine\n",
        "\n",
        "    # ax enables access to manipulate each of subplots\n",
        "    ax = []\n",
        "\n",
        "    for i in range(columns*rows):\n",
        "        img = X[i]\n",
        "        # create subplot and append to ax\n",
        "        ax.append( fig.add_subplot(rows, columns, i+1) )\n",
        "        ax[-1].set_title(\"Conv : \"+str(i))  # set title\n",
        "        plt.imshow(img, alpha=0.25)\n",
        "\n",
        "    # do extra plots on selected axes/subplots\n",
        "    # note: index starts with 0\n",
        "    #ax[2].plot(xs, 3*ys)\n",
        "    #ax[19].plot(ys**2, xs)\n",
        "\n",
        "    plt.show()"
      ]
    },
    {
      "cell_type": "code",
      "execution_count": 46,
      "metadata": {
        "colab": {
          "base_uri": "https://localhost:8080/",
          "height": 644
        },
        "id": "fbnP0WUH5xlg",
        "outputId": "c27340a9-4530-4352-e521-f27d40f194dc"
      },
      "outputs": [
        {
          "output_type": "stream",
          "name": "stdout",
          "text": [
            "Files already downloaded and verified\n",
            "Train : 42000, Validation : 8000, Test : 10000 \n",
            "<class 'torch.Tensor'> <class 'torch.Tensor'> torch.Size([128, 3, 32, 32]) torch.Size([128])\n",
            "torch.Size([128, 64, 8, 8])\n",
            "torch.Size([128, 64, 8, 8])\n",
            "torch.Size([128, 64, 8, 8])\n",
            "torch.Size([128, 64, 8, 8])\n",
            "torch.Size([128, 64, 8, 8])\n",
            "torch.Size([128, 64, 8, 8])\n",
            "torch.Size([128, 64, 8, 8])\n",
            "torch.Size([128, 64, 8, 8])\n",
            "torch.Size([128, 64, 8, 8])\n"
          ]
        },
        {
          "output_type": "display_data",
          "data": {
            "image/png": "[encoded data removed]",
            "text/plain": [
              "<Figure size 648x648 with 8 Axes>"
            ]
          },
          "metadata": {
            "needs_background": "light"
          }
        }
      ],
      "source": [
        "def print_train(path,args):\n",
        "    X = []\n",
        "\n",
        "    data_train,_,_ = load_cifar(args)\n",
        "    for epoch in [\"0\",\"2\",\"4\",\"6\",\"8\",\"10\",\"12\",\"14\",\"16\"]:\n",
        "        name = path + '/model_{}'.format(epoch)+'.pth'\n",
        "        model = Res_Net(args)\n",
        "        model.load_state_dict(torch.load(name))\n",
        "        activation = {}\n",
        "        def getActivation(name):\n",
        "            def hook(model,input,output):\n",
        "                activation[name] = output.detach()\n",
        "            return hook\n",
        "        \n",
        "        #h = model.backbone.conv1.register_forward_hook(getActivation(\"Conv1\"))\n",
        "\n",
        "        h = model.backbone.layer1[0].conv1.register_forward_hook(getActivation(\"Conv1\"))\n",
        "        for x,y in data_train:\n",
        "            out = model(x)\n",
        "            output = activation[\"Conv1\"]\n",
        "            print(output.shape)\n",
        "            X.append(output[0][0]) # Taking 0th filter\n",
        "            break\n",
        "        \n",
        "    #print(X)\n",
        "    return X \n",
        "\n",
        "X = print_train(\"Results/Expt2_l2_ep75_early10_regFalse_drFalse_rate_0.0_actrelu_hid128_lr0.01_scTrue_bch128__normstandard_seed10\",args)\n",
        "\n",
        "multi_plot(X,10,10,4,2)"
      ]
    },
    {
      "cell_type": "code",
      "execution_count": 52,
      "metadata": {
        "colab": {
          "base_uri": "https://localhost:8080/",
          "height": 627
        },
        "id": "UU010ncQDd1X",
        "outputId": "61727597-a64e-41aa-83b2-3fda507edc31"
      },
      "outputs": [
        {
          "output_type": "stream",
          "name": "stdout",
          "text": [
            "Files already downloaded and verified\n",
            "Train : 42000, Validation : 8000, Test : 10000 \n",
            "<class 'torch.Tensor'> <class 'torch.Tensor'> torch.Size([128, 3, 32, 32]) torch.Size([128])\n",
            "torch.Size([128, 64, 16, 16])\n",
            "torch.Size([128, 64, 8, 8])\n",
            "torch.Size([128, 64, 8, 8])\n",
            "torch.Size([128, 128, 4, 4])\n",
            "torch.Size([128, 128, 4, 4])\n",
            "torch.Size([128, 256, 2, 2])\n",
            "torch.Size([128, 256, 2, 2])\n",
            "torch.Size([128, 512, 1, 1])\n"
          ]
        },
        {
          "output_type": "display_data",
          "data": {
            "image/png": "[encoded data removed]",
            "text/plain": [
              "<Figure size 648x648 with 8 Axes>"
            ]
          },
          "metadata": {
            "needs_background": "light"
          }
        }
      ],
      "source": [
        "X = []\n",
        "\n",
        "data_train,_,_ = load_cifar(args)\n",
        "model = Res_Net(args)\n",
        "model.load_state_dict(torch.load(\"Results/\"+name+\"/model_best.pth\"))\n",
        "activation = {}\n",
        "def getActivation(name):\n",
        "    def hook(model,input,output):\n",
        "        activation[name] = output.detach()\n",
        "    return hook\n",
        "\n",
        "h1 = model.backbone.conv1.register_forward_hook(getActivation(\"1\"))\n",
        "h2 = model.backbone.layer1[0].conv1.register_forward_hook(getActivation(\"2\"))\n",
        "h3 = model.backbone.layer1[1].conv2.register_forward_hook(getActivation(\"3\"))\n",
        "h4 = model.backbone.layer2[0].conv1.register_forward_hook(getActivation(\"4\"))\n",
        "h5 = model.backbone.layer2[1].conv1.register_forward_hook(getActivation(\"5\"))\n",
        "h6 = model.backbone.layer3[0].conv1.register_forward_hook(getActivation(\"6\"))\n",
        "h7 = model.backbone.layer3[0].conv2.register_forward_hook(getActivation(\"7\"))\n",
        "h8 = model.backbone.layer4[1].conv2.register_forward_hook(getActivation(\"8\"))\n",
        "\n",
        "\n",
        "for x,y in data_train:\n",
        "    out = model(x)\n",
        "    for n in range(1,9):\n",
        "        output = activation[str(n)]\n",
        "        print(output.shape)\n",
        "        X.append(output[0][0]) # Taking 0th filter\n",
        "    break\n",
        "\n",
        "multi_plot(X,10,10,4,2)"
      ]
    },
    {
      "cell_type": "code",
      "execution_count": null,
      "metadata": {
        "id": "_9BuaJIbCyqs"
      },
      "outputs": [],
      "source": [
        ""
      ]
    }
  ],
  "metadata": {
    "accelerator": "GPU",
    "colab": {
      "name": "Untitled8.ipynb",
      "provenance": []
    },
    "kernelspec": {
      "display_name": "Python 3",
      "name": "python3"
    },
    "language_info": {
      "name": "python"
    }
  },
  "nbformat": 4,
  "nbformat_minor": 0
}